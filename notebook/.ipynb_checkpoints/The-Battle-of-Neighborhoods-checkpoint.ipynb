{
 "cells": [
  {
   "cell_type": "markdown",
   "metadata": {},
   "source": [
    "## Business case\n",
    "John and Anne are moving to Toronto. John works mainly from home and traveling to the office only one day per week. Anne has not found a job yet and she is a trained teacher. After moving to Toronto she would start looking for work. They are also planing to have children. Therefore, they decided to purchase a house in a neighborhood where there is a high density of schools. This would increase the chance that Anne would find a job near the house so she can minimize traveling. Then when they have children there is a high probability that they can find a school near the house. "
   ]
  },
  {
   "cell_type": "code",
   "execution_count": 1,
   "metadata": {},
   "outputs": [],
   "source": [
    "#Import the necessary libraries\n",
    "import numpy as np\n",
    "# library to handle requests\n",
    "import requests \n",
    "from pandas.io.json import json_normalize \n",
    "from pandas import json_normalize \n",
    "import pandas as pd \n",
    "import folium \n",
    "from sklearn.cluster import KMeans\n",
    "import matplotlib.cm as cm\n",
    "import matplotlib.colors as colors"
   ]
  },
  {
   "cell_type": "code",
   "execution_count": 2,
   "metadata": {},
   "outputs": [],
   "source": [
    "#Load the foursquare credentials from file\n",
    "f = open(\"keys\", \"r\")\n",
    "CLIENT_ID=f.read(49)\n",
    "CLIENT_SECRET=f.read(49) \n",
    "\n",
    "VERSION = '20200825' # Foursquare API version\n",
    "\n",
    "#print('Your credentails:')\n",
    "#print('CLIENT_ID: ' + CLIENT_ID)\n",
    "#print('CLIENT_SECRET:' + CLIENT_SECRET)"
   ]
  },
  {
   "cell_type": "code",
   "execution_count": 3,
   "metadata": {},
   "outputs": [
    {
     "data": {
      "text/html": [
       "<div>\n",
       "<style scoped>\n",
       "    .dataframe tbody tr th:only-of-type {\n",
       "        vertical-align: middle;\n",
       "    }\n",
       "\n",
       "    .dataframe tbody tr th {\n",
       "        vertical-align: top;\n",
       "    }\n",
       "\n",
       "    .dataframe thead th {\n",
       "        text-align: right;\n",
       "    }\n",
       "</style>\n",
       "<table border=\"1\" class=\"dataframe\">\n",
       "  <thead>\n",
       "    <tr style=\"text-align: right;\">\n",
       "      <th></th>\n",
       "      <th>Postal Code</th>\n",
       "      <th>District</th>\n",
       "      <th>Neighbourhood</th>\n",
       "    </tr>\n",
       "  </thead>\n",
       "  <tbody>\n",
       "    <tr>\n",
       "      <th>0</th>\n",
       "      <td>M1A</td>\n",
       "      <td>Not assigned</td>\n",
       "      <td>Not assigned</td>\n",
       "    </tr>\n",
       "    <tr>\n",
       "      <th>1</th>\n",
       "      <td>M2A</td>\n",
       "      <td>Not assigned</td>\n",
       "      <td>Not assigned</td>\n",
       "    </tr>\n",
       "    <tr>\n",
       "      <th>2</th>\n",
       "      <td>M3A</td>\n",
       "      <td>North York</td>\n",
       "      <td>Parkwoods</td>\n",
       "    </tr>\n",
       "    <tr>\n",
       "      <th>3</th>\n",
       "      <td>M4A</td>\n",
       "      <td>North York</td>\n",
       "      <td>Victoria Village</td>\n",
       "    </tr>\n",
       "    <tr>\n",
       "      <th>4</th>\n",
       "      <td>M5A</td>\n",
       "      <td>Downtown Toronto</td>\n",
       "      <td>Regent Park, Harbourfront</td>\n",
       "    </tr>\n",
       "  </tbody>\n",
       "</table>\n",
       "</div>"
      ],
      "text/plain": [
       "  Postal Code          District              Neighbourhood\n",
       "0         M1A      Not assigned               Not assigned\n",
       "1         M2A      Not assigned               Not assigned\n",
       "2         M3A        North York                  Parkwoods\n",
       "3         M4A        North York           Victoria Village\n",
       "4         M5A  Downtown Toronto  Regent Park, Harbourfront"
      ]
     },
     "execution_count": 3,
     "metadata": {},
     "output_type": "execute_result"
    }
   ],
   "source": [
    "#Get a list postcodes from Wikipedia \n",
    "wiki_url=\"https://en.wikipedia.org/wiki/List_of_postal_codes_of_Canada:_M\"\n",
    "toronto_wiki  = pd.read_html(wiki_url)\n",
    "toronto_df=toronto_wiki[0]\n",
    "toronto_df.head(5)"
   ]
  },
  {
   "cell_type": "code",
   "execution_count": 4,
   "metadata": {},
   "outputs": [
    {
     "name": "stdout",
     "output_type": "stream",
     "text": [
      "https://api.foursquare.com/v2/venues/explore?&client_id=5IOZ0WK1G13QTMKG0GH0IOTHBQOHH4MPKZMQBIK0PJQPY505\n",
      "&client_secret=4UQUSIBM520YLUYPAUABP3URJG1FJPREFKVFLF3A0WGVDM35\n",
      "&v=20200823&near=Toronto,ON,Canada&limit=1000&categoryId=4bf58dd8d48988d13b941735\n"
     ]
    }
   ],
   "source": [
    "#Get a list of schools and their locations using foursquare\n",
    "schools=\"4bf58dd8d48988d13b941735\"\n",
    "preschool=\"52e81612bcbc57f1066b7a45\"\n",
    "version='20200823'\n",
    "location='Toronto,ON,Canada'\n",
    "radius='40000'\n",
    "limit='1000'\n",
    "url='https://api.foursquare.com/v2/venues/explore?&client_id={}&client_secret={}&v={}&near={}&limit={}&categoryId={}'.format(CLIENT_ID, CLIENT_SECRET,version,location,limit,schools)\n",
    "print(url)\n",
    "foursquare_respo=requests.get(url).json()[\"response\"]\n"
   ]
  },
  {
   "cell_type": "code",
   "execution_count": 5,
   "metadata": {},
   "outputs": [
    {
     "name": "stdout",
     "output_type": "stream",
     "text": [
      "208\n"
     ]
    },
    {
     "data": {
      "text/html": [
       "<div>\n",
       "<style scoped>\n",
       "    .dataframe tbody tr th:only-of-type {\n",
       "        vertical-align: middle;\n",
       "    }\n",
       "\n",
       "    .dataframe tbody tr th {\n",
       "        vertical-align: top;\n",
       "    }\n",
       "\n",
       "    .dataframe thead th {\n",
       "        text-align: right;\n",
       "    }\n",
       "</style>\n",
       "<table border=\"1\" class=\"dataframe\">\n",
       "  <thead>\n",
       "    <tr style=\"text-align: right;\">\n",
       "      <th></th>\n",
       "      <th>Name</th>\n",
       "      <th>Latitude</th>\n",
       "      <th>Longitude</th>\n",
       "      <th>PostalCode</th>\n",
       "    </tr>\n",
       "  </thead>\n",
       "  <tbody>\n",
       "    <tr>\n",
       "      <th>0</th>\n",
       "      <td>SCHOOL Restaurant</td>\n",
       "      <td>43.637775</td>\n",
       "      <td>-79.424297</td>\n",
       "      <td>M6K</td>\n",
       "    </tr>\n",
       "    <tr>\n",
       "      <th>1</th>\n",
       "      <td>Nella Cucina</td>\n",
       "      <td>43.667122</td>\n",
       "      <td>-79.412022</td>\n",
       "      <td>M5R</td>\n",
       "    </tr>\n",
       "    <tr>\n",
       "      <th>2</th>\n",
       "      <td>ILSC</td>\n",
       "      <td>43.654743</td>\n",
       "      <td>-79.387793</td>\n",
       "      <td>M5G</td>\n",
       "    </tr>\n",
       "  </tbody>\n",
       "</table>\n",
       "</div>"
      ],
      "text/plain": [
       "                Name   Latitude  Longitude PostalCode\n",
       "0  SCHOOL Restaurant  43.637775 -79.424297        M6K\n",
       "1       Nella Cucina  43.667122 -79.412022        M5R\n",
       "2               ILSC  43.654743 -79.387793        M5G"
      ]
     },
     "execution_count": 5,
     "metadata": {},
     "output_type": "execute_result"
    }
   ],
   "source": [
    "#Extracte the school information from the Json resutls\n",
    "venues = foursquare_respo['groups'][0]['items']\n",
    "nearby_venues = json_normalize(venues)\n",
    "#nearby_venues.keys()\n",
    "column_names = ['Name', 'Latitude', 'Longitude','PostalCode'] \n",
    "schools = pd.DataFrame(columns=column_names)\n",
    "schools\n",
    "for name, lat, lng, pc in zip(nearby_venues.get('venue.name'), \n",
    "                          nearby_venues.get('venue.location.lat'),\n",
    "                          nearby_venues.get('venue.location.lng'),\n",
    "                          nearby_venues.get('venue.location.postalCode')\n",
    "                          ):\n",
    "    if len(str(pc).split(\" \")) == 2:\n",
    "        schools=schools.append({'Name':name,\n",
    "                            'Latitude':lat,\n",
    "                            'Longitude':lng,\n",
    "                            'PostalCode':str(pc).split(\" \")[0]\n",
    "                             \n",
    "                           },ignore_index=True)\n",
    "    #print(name,' lat=',lat, 'long=',lng)\n",
    "print(schools.size)\n",
    "schools.head(3)"
   ]
  },
  {
   "cell_type": "code",
   "execution_count": 6,
   "metadata": {},
   "outputs": [
    {
     "name": "stdout",
     "output_type": "stream",
     "text": [
      "36\n"
     ]
    },
    {
     "data": {
      "text/html": [
       "<div>\n",
       "<style scoped>\n",
       "    .dataframe tbody tr th:only-of-type {\n",
       "        vertical-align: middle;\n",
       "    }\n",
       "\n",
       "    .dataframe tbody tr th {\n",
       "        vertical-align: top;\n",
       "    }\n",
       "\n",
       "    .dataframe thead th {\n",
       "        text-align: right;\n",
       "    }\n",
       "</style>\n",
       "<table border=\"1\" class=\"dataframe\">\n",
       "  <thead>\n",
       "    <tr style=\"text-align: right;\">\n",
       "      <th></th>\n",
       "      <th>Name</th>\n",
       "    </tr>\n",
       "    <tr>\n",
       "      <th>PostalCode</th>\n",
       "      <th></th>\n",
       "    </tr>\n",
       "  </thead>\n",
       "  <tbody>\n",
       "    <tr>\n",
       "      <th>M6G</th>\n",
       "      <td>4</td>\n",
       "    </tr>\n",
       "    <tr>\n",
       "      <th>M6H</th>\n",
       "      <td>2</td>\n",
       "    </tr>\n",
       "    <tr>\n",
       "      <th>M6K</th>\n",
       "      <td>1</td>\n",
       "    </tr>\n",
       "  </tbody>\n",
       "</table>\n",
       "</div>"
      ],
      "text/plain": [
       "            Name\n",
       "PostalCode      \n",
       "M6G            4\n",
       "M6H            2\n",
       "M6K            1"
      ]
     },
     "execution_count": 6,
     "metadata": {},
     "output_type": "execute_result"
    }
   ],
   "source": [
    "#Count number of schools in each postcode \n",
    "schools_g=schools.filter(['PostalCode','Name'], axis=1)\n",
    "schools_g=schools_g.groupby('PostalCode').count()\n",
    "print(len(schools_g))\n",
    "schools_g.tail(10).head(3)"
   ]
  },
  {
   "cell_type": "code",
   "execution_count": 7,
   "metadata": {},
   "outputs": [
    {
     "data": {
      "text/plain": [
       "array([0, 0, 0, 0, 0, 1, 0, 0, 1, 0], dtype=int32)"
      ]
     },
     "execution_count": 7,
     "metadata": {},
     "output_type": "execute_result"
    }
   ],
   "source": [
    "# set number of clusters\n",
    "kclusters = 3\n",
    "\n",
    "# run k-means clustering\n",
    "kmeans = KMeans(n_clusters=kclusters, random_state=0).fit(schools_g)\n",
    "\n",
    "# check cluster labels generated for each row in the dataframe\n",
    "kmeans.labels_[0:10] "
   ]
  },
  {
   "cell_type": "code",
   "execution_count": 8,
   "metadata": {},
   "outputs": [
    {
     "name": "stdout",
     "output_type": "stream",
     "text": [
      "36\n"
     ]
    },
    {
     "data": {
      "text/html": [
       "<div>\n",
       "<style scoped>\n",
       "    .dataframe tbody tr th:only-of-type {\n",
       "        vertical-align: middle;\n",
       "    }\n",
       "\n",
       "    .dataframe tbody tr th {\n",
       "        vertical-align: top;\n",
       "    }\n",
       "\n",
       "    .dataframe thead th {\n",
       "        text-align: right;\n",
       "    }\n",
       "</style>\n",
       "<table border=\"1\" class=\"dataframe\">\n",
       "  <thead>\n",
       "    <tr style=\"text-align: right;\">\n",
       "      <th></th>\n",
       "      <th>ClusterLabels</th>\n",
       "      <th>Name</th>\n",
       "    </tr>\n",
       "    <tr>\n",
       "      <th>PostalCode</th>\n",
       "      <th></th>\n",
       "      <th></th>\n",
       "    </tr>\n",
       "  </thead>\n",
       "  <tbody>\n",
       "    <tr>\n",
       "      <th>M6G</th>\n",
       "      <td>2</td>\n",
       "      <td>4</td>\n",
       "    </tr>\n",
       "    <tr>\n",
       "      <th>M6H</th>\n",
       "      <td>1</td>\n",
       "      <td>2</td>\n",
       "    </tr>\n",
       "    <tr>\n",
       "      <th>M6K</th>\n",
       "      <td>0</td>\n",
       "      <td>1</td>\n",
       "    </tr>\n",
       "  </tbody>\n",
       "</table>\n",
       "</div>"
      ],
      "text/plain": [
       "            ClusterLabels  Name\n",
       "PostalCode                     \n",
       "M6G                     2     4\n",
       "M6H                     1     2\n",
       "M6K                     0     1"
      ]
     },
     "execution_count": 8,
     "metadata": {},
     "output_type": "execute_result"
    }
   ],
   "source": [
    "#Include lables\n",
    "schools_g.insert(0, 'ClusterLabels', kmeans.labels_)\n",
    "print(len(schools_g))\n",
    "schools_g.tail(10).head(3)"
   ]
  },
  {
   "cell_type": "code",
   "execution_count": 9,
   "metadata": {},
   "outputs": [
    {
     "data": {
      "text/html": [
       "<div>\n",
       "<style scoped>\n",
       "    .dataframe tbody tr th:only-of-type {\n",
       "        vertical-align: middle;\n",
       "    }\n",
       "\n",
       "    .dataframe tbody tr th {\n",
       "        vertical-align: top;\n",
       "    }\n",
       "\n",
       "    .dataframe thead th {\n",
       "        text-align: right;\n",
       "    }\n",
       "</style>\n",
       "<table border=\"1\" class=\"dataframe\">\n",
       "  <thead>\n",
       "    <tr style=\"text-align: right;\">\n",
       "      <th></th>\n",
       "      <th>PostalCode</th>\n",
       "      <th>District</th>\n",
       "      <th>Neighbourhood</th>\n",
       "      <th>Latitude</th>\n",
       "      <th>Longitude</th>\n",
       "      <th>ClusterLabels</th>\n",
       "    </tr>\n",
       "  </thead>\n",
       "  <tbody>\n",
       "    <tr>\n",
       "      <th>0</th>\n",
       "      <td>M1A</td>\n",
       "      <td>Not assigned</td>\n",
       "      <td>Not assigned</td>\n",
       "      <td>0</td>\n",
       "      <td>0</td>\n",
       "      <td>-1</td>\n",
       "    </tr>\n",
       "    <tr>\n",
       "      <th>1</th>\n",
       "      <td>M2A</td>\n",
       "      <td>Not assigned</td>\n",
       "      <td>Not assigned</td>\n",
       "      <td>0</td>\n",
       "      <td>0</td>\n",
       "      <td>-1</td>\n",
       "    </tr>\n",
       "    <tr>\n",
       "      <th>2</th>\n",
       "      <td>M3A</td>\n",
       "      <td>North York</td>\n",
       "      <td>Parkwoods</td>\n",
       "      <td>0</td>\n",
       "      <td>0</td>\n",
       "      <td>-1</td>\n",
       "    </tr>\n",
       "  </tbody>\n",
       "</table>\n",
       "</div>"
      ],
      "text/plain": [
       "  PostalCode      District Neighbourhood  Latitude  Longitude  ClusterLabels\n",
       "0        M1A  Not assigned  Not assigned         0          0             -1\n",
       "1        M2A  Not assigned  Not assigned         0          0             -1\n",
       "2        M3A    North York     Parkwoods         0          0             -1"
      ]
     },
     "execution_count": 9,
     "metadata": {},
     "output_type": "execute_result"
    }
   ],
   "source": [
    "#Prepare the original data frame to include Latitude, Logitude and cluster lables\n",
    "toronto_df['Latitude']=0\n",
    "toronto_df['Longitude']=0\n",
    "toronto_df['ClusterLabels']=-1\n",
    "toronto_df.rename(columns={\"Postal Code\":\"PostalCode\"}, inplace=True)\n",
    "toronto_df.head(3)"
   ]
  },
  {
   "cell_type": "code",
   "execution_count": 10,
   "metadata": {},
   "outputs": [
    {
     "name": "stdout",
     "output_type": "stream",
     "text": [
      "108\n"
     ]
    },
    {
     "data": {
      "text/html": [
       "<div>\n",
       "<style scoped>\n",
       "    .dataframe tbody tr th:only-of-type {\n",
       "        vertical-align: middle;\n",
       "    }\n",
       "\n",
       "    .dataframe tbody tr th {\n",
       "        vertical-align: top;\n",
       "    }\n",
       "\n",
       "    .dataframe thead th {\n",
       "        text-align: right;\n",
       "    }\n",
       "</style>\n",
       "<table border=\"1\" class=\"dataframe\">\n",
       "  <thead>\n",
       "    <tr style=\"text-align: right;\">\n",
       "      <th></th>\n",
       "      <th>Name</th>\n",
       "      <th>Latitude</th>\n",
       "      <th>Longitude</th>\n",
       "    </tr>\n",
       "    <tr>\n",
       "      <th>PostalCode</th>\n",
       "      <th></th>\n",
       "      <th></th>\n",
       "      <th></th>\n",
       "    </tr>\n",
       "  </thead>\n",
       "  <tbody>\n",
       "    <tr>\n",
       "      <th>M6K</th>\n",
       "      <td>SCHOOL Restaurant</td>\n",
       "      <td>43.637775</td>\n",
       "      <td>-79.424297</td>\n",
       "    </tr>\n",
       "    <tr>\n",
       "      <th>M5R</th>\n",
       "      <td>Nella Cucina</td>\n",
       "      <td>43.667122</td>\n",
       "      <td>-79.412022</td>\n",
       "    </tr>\n",
       "    <tr>\n",
       "      <th>M5G</th>\n",
       "      <td>ILSC</td>\n",
       "      <td>43.654743</td>\n",
       "      <td>-79.387793</td>\n",
       "    </tr>\n",
       "  </tbody>\n",
       "</table>\n",
       "</div>"
      ],
      "text/plain": [
       "                         Name   Latitude  Longitude\n",
       "PostalCode                                         \n",
       "M6K         SCHOOL Restaurant  43.637775 -79.424297\n",
       "M5R              Nella Cucina  43.667122 -79.412022\n",
       "M5G                      ILSC  43.654743 -79.387793"
      ]
     },
     "execution_count": 10,
     "metadata": {},
     "output_type": "execute_result"
    }
   ],
   "source": [
    "#Drop the duplicate postal codes\n",
    "schools.drop_duplicates(subset=['PostalCode'], inplace=True)\n",
    "schools.set_index('PostalCode', inplace=True)\n",
    "print(schools.size)\n",
    "schools.head(3)"
   ]
  },
  {
   "cell_type": "code",
   "execution_count": 11,
   "metadata": {},
   "outputs": [],
   "source": [
    "#Transfrer the data from data frame used to evaluate the lables to the data frame used to create the map\n",
    "for pcod in toronto_df.index:\n",
    "    c_pcod=toronto_df['PostalCode'][pcod]\n",
    "    if c_pcod in schools_g.index:\n",
    "        toronto_df.loc[pcod, 'ClusterLabels'] = schools_g.loc[c_pcod].ClusterLabels\n",
    "        if c_pcod in schools.index:\n",
    "            toronto_df.loc[pcod, 'Latitude'] = schools.loc[c_pcod].Latitude\n",
    "            toronto_df.loc[pcod, 'Longitude'] = schools.loc[c_pcod].Longitude\n",
    "         #else:\n",
    "        #    print('NA')"
   ]
  },
  {
   "cell_type": "code",
   "execution_count": 12,
   "metadata": {},
   "outputs": [
    {
     "name": "stdout",
     "output_type": "stream",
     "text": [
      "216\n"
     ]
    },
    {
     "data": {
      "text/html": [
       "<div>\n",
       "<style scoped>\n",
       "    .dataframe tbody tr th:only-of-type {\n",
       "        vertical-align: middle;\n",
       "    }\n",
       "\n",
       "    .dataframe tbody tr th {\n",
       "        vertical-align: top;\n",
       "    }\n",
       "\n",
       "    .dataframe thead th {\n",
       "        text-align: right;\n",
       "    }\n",
       "</style>\n",
       "<table border=\"1\" class=\"dataframe\">\n",
       "  <thead>\n",
       "    <tr style=\"text-align: right;\">\n",
       "      <th></th>\n",
       "      <th>PostalCode</th>\n",
       "      <th>District</th>\n",
       "      <th>Neighbourhood</th>\n",
       "      <th>Latitude</th>\n",
       "      <th>Longitude</th>\n",
       "      <th>ClusterLabels</th>\n",
       "    </tr>\n",
       "  </thead>\n",
       "  <tbody>\n",
       "    <tr>\n",
       "      <th>26</th>\n",
       "      <td>M9C</td>\n",
       "      <td>Etobicoke</td>\n",
       "      <td>Eringate, Bloordale Gardens, Old Burnhamthorpe...</td>\n",
       "      <td>43.637892</td>\n",
       "      <td>-79.580519</td>\n",
       "      <td>0</td>\n",
       "    </tr>\n",
       "    <tr>\n",
       "      <th>32</th>\n",
       "      <td>M6E</td>\n",
       "      <td>York</td>\n",
       "      <td>Caledonia-Fairbanks</td>\n",
       "      <td>43.679217</td>\n",
       "      <td>-79.441730</td>\n",
       "      <td>0</td>\n",
       "    </tr>\n",
       "    <tr>\n",
       "      <th>40</th>\n",
       "      <td>M5G</td>\n",
       "      <td>Downtown Toronto</td>\n",
       "      <td>Central Bay Street</td>\n",
       "      <td>43.654743</td>\n",
       "      <td>-79.387793</td>\n",
       "      <td>1</td>\n",
       "    </tr>\n",
       "  </tbody>\n",
       "</table>\n",
       "</div>"
      ],
      "text/plain": [
       "   PostalCode          District  \\\n",
       "26        M9C         Etobicoke   \n",
       "32        M6E              York   \n",
       "40        M5G  Downtown Toronto   \n",
       "\n",
       "                                        Neighbourhood   Latitude  Longitude  \\\n",
       "26  Eringate, Bloordale Gardens, Old Burnhamthorpe...  43.637892 -79.580519   \n",
       "32                                Caledonia-Fairbanks  43.679217 -79.441730   \n",
       "40                                 Central Bay Street  43.654743 -79.387793   \n",
       "\n",
       "    ClusterLabels  \n",
       "26              0  \n",
       "32              0  \n",
       "40              1  "
      ]
     },
     "execution_count": 12,
     "metadata": {},
     "output_type": "execute_result"
    }
   ],
   "source": [
    "#Drop rows where there were not cluster labesl\n",
    "#These are the postal codes where foursquare filed to find any schools\n",
    "toronto_df.drop(toronto_df[toronto_df.ClusterLabels==-1].index, inplace=True)\n",
    "print(toronto_df.size)\n",
    "toronto_df.tail(100).head(3)\n"
   ]
  },
  {
   "cell_type": "code",
   "execution_count": 13,
   "metadata": {},
   "outputs": [
    {
     "name": "stdout",
     "output_type": "stream",
     "text": [
      "One schools -blue \n",
      "Two schools - green \n",
      "Four schools - Red \n"
     ]
    },
    {
     "data": {
      "text/html": [
       "<div style=\"width:100%;\"><div style=\"position:relative;width:100%;height:0;padding-bottom:60%;\"><span style=\"color:#565656\">Make this Notebook Trusted to load map: File -> Trust Notebook</span><iframe src=\"about:blank\" style=\"position:absolute;width:100%;height:100%;left:0;top:0;border:none !important;\" data-html=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 onload=\"this.contentDocument.open();this.contentDocument.write(atob(this.getAttribute('data-html')));this.contentDocument.close();\" allowfullscreen webkitallowfullscreen mozallowfullscreen></iframe></div></div>"
      ],
      "text/plain": [
       "<folium.folium.Map at 0x7fb4ae826460>"
      ]
     },
     "execution_count": 13,
     "metadata": {},
     "output_type": "execute_result"
    }
   ],
   "source": [
    "# create map\n",
    "cent_lati='43.637775'\n",
    "cent_long='-79.424297'\n",
    "map_clusters = folium.Map(location=[cent_lati, cent_long], zoom_start=10)\n",
    "\n",
    "# set color scheme for the clusters\n",
    "x = np.arange(kclusters)\n",
    "ys = [i + x + (i*x)**2 for i in range(kclusters)]\n",
    "colors_array = cm.brg(np.linspace(0, 1, len(ys)))\n",
    "rainbow = [colors.rgb2hex(i) for i in colors_array]\n",
    "\n",
    "#print(rainbow)\n",
    "# add markers to the map\n",
    "print(\"One schools -blue \")\n",
    "print(\"Two schools - green \")\n",
    "print(\"Four schools - Red \")\n",
    "markers_colors = []\n",
    "for lat, lon, poc, cluster in zip(toronto_df['Latitude'], \n",
    "                                  toronto_df['Longitude'], \n",
    "                                  toronto_df['PostalCode'],\n",
    "                                  toronto_df['ClusterLabels']):\n",
    "        label = folium.Popup('Postcode='+str(poc) + '|Cluster=' + str(cluster+1), parse_html=True)\n",
    "        folium.CircleMarker(\n",
    "        [lat, lon],\n",
    "        radius=5,\n",
    "        popup=label,\n",
    "        color=rainbow[cluster-1],\n",
    "        fill=True,\n",
    "        fill_color=rainbow[cluster-1],\n",
    "        fill_opacity=0.7).add_to(map_clusters)\n",
    "       \n",
    "map_clusters"
   ]
  },
  {
   "cell_type": "code",
   "execution_count": null,
   "metadata": {},
   "outputs": [],
   "source": []
  }
 ],
 "metadata": {
  "kernelspec": {
   "display_name": "Python 3",
   "language": "python",
   "name": "python3"
  },
  "language_info": {
   "codemirror_mode": {
    "name": "ipython",
    "version": 3
   },
   "file_extension": ".py",
   "mimetype": "text/x-python",
   "name": "python",
   "nbconvert_exporter": "python",
   "pygments_lexer": "ipython3",
   "version": "3.8.3"
  }
 },
 "nbformat": 4,
 "nbformat_minor": 4
}
