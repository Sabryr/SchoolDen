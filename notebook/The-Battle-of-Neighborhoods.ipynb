{
 "cells": [
  {
   "cell_type": "markdown",
   "metadata": {},
   "source": [
    "## Business case\n",
    "John and Anne are moving to Toronto. John works mainly from home and traveling to the office only one day per week. Anne has not found a job yet and she is a trained teacher. After moving to Toronto she would start looking for work. They are also planing to have children. Therefore, they decided to purchase a house in a neighborhood where there is a high density of schools. This would increase the chance that Anne would find a job near the house so she can minimize traveling. Then when they have children there is a high probability that they can find a school near the house. "
   ]
  },
  {
   "cell_type": "code",
   "execution_count": 66,
   "metadata": {},
   "outputs": [],
   "source": [
    "#Import the necessary libraries\n",
    "import numpy as np\n",
    "import requests # library to handle requests\n",
    "from pandas.io.json import json_normalize \n",
    "from pandas import json_normalize \n",
    "import pandas as pd \n",
    "import folium \n",
    "from sklearn.cluster import KMeans\n",
    "import matplotlib.cm as cm\n",
    "import matplotlib.colors as colors"
   ]
  },
  {
   "cell_type": "code",
   "execution_count": 101,
   "metadata": {},
   "outputs": [],
   "source": [
    "#Load the foursquare credentials from file\n",
    "f = open(\"keys\", \"r\")\n",
    "CLIENT_ID=f.read(49)\n",
    "CLIENT_SECRET=f.read(49) \n",
    "\n",
    "VERSION = '20200825' # Foursquare API version\n",
    "\n",
    "#print('Your credentails:')\n",
    "#print('CLIENT_ID: ' + CLIENT_ID)\n",
    "#print('CLIENT_SECRET:' + CLIENT_SECRET)"
   ]
  },
  {
   "cell_type": "code",
   "execution_count": 68,
   "metadata": {},
   "outputs": [
    {
     "data": {
      "text/html": [
       "<div>\n",
       "<style scoped>\n",
       "    .dataframe tbody tr th:only-of-type {\n",
       "        vertical-align: middle;\n",
       "    }\n",
       "\n",
       "    .dataframe tbody tr th {\n",
       "        vertical-align: top;\n",
       "    }\n",
       "\n",
       "    .dataframe thead th {\n",
       "        text-align: right;\n",
       "    }\n",
       "</style>\n",
       "<table border=\"1\" class=\"dataframe\">\n",
       "  <thead>\n",
       "    <tr style=\"text-align: right;\">\n",
       "      <th></th>\n",
       "      <th>Postal Code</th>\n",
       "      <th>District</th>\n",
       "      <th>Neighbourhood</th>\n",
       "    </tr>\n",
       "  </thead>\n",
       "  <tbody>\n",
       "    <tr>\n",
       "      <th>0</th>\n",
       "      <td>M1A</td>\n",
       "      <td>Not assigned</td>\n",
       "      <td>Not assigned</td>\n",
       "    </tr>\n",
       "    <tr>\n",
       "      <th>1</th>\n",
       "      <td>M2A</td>\n",
       "      <td>Not assigned</td>\n",
       "      <td>Not assigned</td>\n",
       "    </tr>\n",
       "    <tr>\n",
       "      <th>2</th>\n",
       "      <td>M3A</td>\n",
       "      <td>North York</td>\n",
       "      <td>Parkwoods</td>\n",
       "    </tr>\n",
       "    <tr>\n",
       "      <th>3</th>\n",
       "      <td>M4A</td>\n",
       "      <td>North York</td>\n",
       "      <td>Victoria Village</td>\n",
       "    </tr>\n",
       "    <tr>\n",
       "      <th>4</th>\n",
       "      <td>M5A</td>\n",
       "      <td>Downtown Toronto</td>\n",
       "      <td>Regent Park, Harbourfront</td>\n",
       "    </tr>\n",
       "  </tbody>\n",
       "</table>\n",
       "</div>"
      ],
      "text/plain": [
       "  Postal Code          District              Neighbourhood\n",
       "0         M1A      Not assigned               Not assigned\n",
       "1         M2A      Not assigned               Not assigned\n",
       "2         M3A        North York                  Parkwoods\n",
       "3         M4A        North York           Victoria Village\n",
       "4         M5A  Downtown Toronto  Regent Park, Harbourfront"
      ]
     },
     "execution_count": 68,
     "metadata": {},
     "output_type": "execute_result"
    }
   ],
   "source": [
    "#Get a list postcodes from Wikipedia \n",
    "wiki_url=\"https://en.wikipedia.org/wiki/List_of_postal_codes_of_Canada:_M\"\n",
    "toronto_wiki  = pd.read_html(wiki_url)\n",
    "toronto_df=toronto_wiki[0]\n",
    "toronto_df.head(5)"
   ]
  },
  {
   "cell_type": "code",
   "execution_count": 102,
   "metadata": {},
   "outputs": [
    {
     "name": "stdout",
     "output_type": "stream",
     "text": [
      "https://api.foursquare.com/v2/venues/explore?&client_id=5IOZ0WK1G13QTMKG0GH0IOTHBQOHH4MPKZMQBIK0PJQPY505\n",
      "&client_secret=4UQUSIBM520YLUYPAUABP3URJG1FJPREFKVFLF3A0WGVDM35\n",
      "&v=20200823&near=Toronto,ON,Canada&limit=1000&categoryId=4bf58dd8d48988d13b941735\n"
     ]
    }
   ],
   "source": [
    "#Get a list of schools and their locations using foursquare\n",
    "schools=\"4bf58dd8d48988d13b941735\"\n",
    "preschool=\"52e81612bcbc57f1066b7a45\"\n",
    "version='20200823'\n",
    "location='Toronto,ON,Canada'\n",
    "radius='40000'\n",
    "limit='1000'\n",
    "url='https://api.foursquare.com/v2/venues/explore?&client_id={}&client_secret={}&v={}&near={}&limit={}&categoryId={}'.format(CLIENT_ID, CLIENT_SECRET,version,location,limit,schools)\n",
    "print(url)\n",
    "foursquare_respo=requests.get(url).json()[\"response\"]\n"
   ]
  },
  {
   "cell_type": "code",
   "execution_count": 104,
   "metadata": {},
   "outputs": [
    {
     "name": "stdout",
     "output_type": "stream",
     "text": [
      "208\n"
     ]
    },
    {
     "data": {
      "text/html": [
       "<div>\n",
       "<style scoped>\n",
       "    .dataframe tbody tr th:only-of-type {\n",
       "        vertical-align: middle;\n",
       "    }\n",
       "\n",
       "    .dataframe tbody tr th {\n",
       "        vertical-align: top;\n",
       "    }\n",
       "\n",
       "    .dataframe thead th {\n",
       "        text-align: right;\n",
       "    }\n",
       "</style>\n",
       "<table border=\"1\" class=\"dataframe\">\n",
       "  <thead>\n",
       "    <tr style=\"text-align: right;\">\n",
       "      <th></th>\n",
       "      <th>Name</th>\n",
       "      <th>Latitude</th>\n",
       "      <th>Longitude</th>\n",
       "      <th>PostalCode</th>\n",
       "    </tr>\n",
       "  </thead>\n",
       "  <tbody>\n",
       "    <tr>\n",
       "      <th>0</th>\n",
       "      <td>SCHOOL Restaurant</td>\n",
       "      <td>43.637775</td>\n",
       "      <td>-79.424297</td>\n",
       "      <td>M6K</td>\n",
       "    </tr>\n",
       "    <tr>\n",
       "      <th>1</th>\n",
       "      <td>Nella Cucina</td>\n",
       "      <td>43.667122</td>\n",
       "      <td>-79.412022</td>\n",
       "      <td>M5R</td>\n",
       "    </tr>\n",
       "    <tr>\n",
       "      <th>2</th>\n",
       "      <td>ILSC</td>\n",
       "      <td>43.654743</td>\n",
       "      <td>-79.387793</td>\n",
       "      <td>M5G</td>\n",
       "    </tr>\n",
       "  </tbody>\n",
       "</table>\n",
       "</div>"
      ],
      "text/plain": [
       "                Name   Latitude  Longitude PostalCode\n",
       "0  SCHOOL Restaurant  43.637775 -79.424297        M6K\n",
       "1       Nella Cucina  43.667122 -79.412022        M5R\n",
       "2               ILSC  43.654743 -79.387793        M5G"
      ]
     },
     "execution_count": 104,
     "metadata": {},
     "output_type": "execute_result"
    }
   ],
   "source": [
    "#Extracte the school information from the Json resutls\n",
    "venues = foursquare_respo['groups'][0]['items']\n",
    "nearby_venues = json_normalize(venues)\n",
    "#nearby_venues.keys()\n",
    "column_names = ['Name', 'Latitude', 'Longitude','PostalCode'] \n",
    "schools = pd.DataFrame(columns=column_names)\n",
    "schools\n",
    "for name, lat, lng, pc in zip(nearby_venues.get('venue.name'), \n",
    "                          nearby_venues.get('venue.location.lat'),\n",
    "                          nearby_venues.get('venue.location.lng'),\n",
    "                          nearby_venues.get('venue.location.postalCode')\n",
    "                          ):\n",
    "    if len(str(pc).split(\" \")) == 2:\n",
    "        schools=schools.append({'Name':name,\n",
    "                            'Latitude':lat,\n",
    "                            'Longitude':lng,\n",
    "                            'PostalCode':str(pc).split(\" \")[0]\n",
    "                             \n",
    "                           },ignore_index=True)\n",
    "    #print(name,' lat=',lat, 'long=',lng)\n",
    "print(schools.size)\n",
    "schools.head(3)"
   ]
  },
  {
   "cell_type": "code",
   "execution_count": 105,
   "metadata": {},
   "outputs": [
    {
     "name": "stdout",
     "output_type": "stream",
     "text": [
      "36\n"
     ]
    },
    {
     "data": {
      "text/html": [
       "<div>\n",
       "<style scoped>\n",
       "    .dataframe tbody tr th:only-of-type {\n",
       "        vertical-align: middle;\n",
       "    }\n",
       "\n",
       "    .dataframe tbody tr th {\n",
       "        vertical-align: top;\n",
       "    }\n",
       "\n",
       "    .dataframe thead th {\n",
       "        text-align: right;\n",
       "    }\n",
       "</style>\n",
       "<table border=\"1\" class=\"dataframe\">\n",
       "  <thead>\n",
       "    <tr style=\"text-align: right;\">\n",
       "      <th></th>\n",
       "      <th>Name</th>\n",
       "    </tr>\n",
       "    <tr>\n",
       "      <th>PostalCode</th>\n",
       "      <th></th>\n",
       "    </tr>\n",
       "  </thead>\n",
       "  <tbody>\n",
       "    <tr>\n",
       "      <th>M6G</th>\n",
       "      <td>4</td>\n",
       "    </tr>\n",
       "    <tr>\n",
       "      <th>M6H</th>\n",
       "      <td>2</td>\n",
       "    </tr>\n",
       "    <tr>\n",
       "      <th>M6K</th>\n",
       "      <td>1</td>\n",
       "    </tr>\n",
       "  </tbody>\n",
       "</table>\n",
       "</div>"
      ],
      "text/plain": [
       "            Name\n",
       "PostalCode      \n",
       "M6G            4\n",
       "M6H            2\n",
       "M6K            1"
      ]
     },
     "execution_count": 105,
     "metadata": {},
     "output_type": "execute_result"
    }
   ],
   "source": [
    "#Count number of schools in each postcode \n",
    "schools_g=schools.filter(['PostalCode','Name'], axis=1)\n",
    "schools_g=schools_g.groupby('PostalCode').count()\n",
    "print(len(schools_g))\n",
    "schools_g.tail(10).head(3)"
   ]
  },
  {
   "cell_type": "code",
   "execution_count": 106,
   "metadata": {},
   "outputs": [
    {
     "data": {
      "text/plain": [
       "array([0, 0, 0, 0, 0, 1, 0, 0, 1, 0], dtype=int32)"
      ]
     },
     "execution_count": 106,
     "metadata": {},
     "output_type": "execute_result"
    }
   ],
   "source": [
    "# set number of clusters\n",
    "kclusters = 3\n",
    "\n",
    "# run k-means clustering\n",
    "kmeans = KMeans(n_clusters=kclusters, random_state=0).fit(schools_g)\n",
    "\n",
    "# check cluster labels generated for each row in the dataframe\n",
    "kmeans.labels_[0:10] "
   ]
  },
  {
   "cell_type": "code",
   "execution_count": 107,
   "metadata": {},
   "outputs": [
    {
     "name": "stdout",
     "output_type": "stream",
     "text": [
      "36\n"
     ]
    },
    {
     "data": {
      "text/html": [
       "<div>\n",
       "<style scoped>\n",
       "    .dataframe tbody tr th:only-of-type {\n",
       "        vertical-align: middle;\n",
       "    }\n",
       "\n",
       "    .dataframe tbody tr th {\n",
       "        vertical-align: top;\n",
       "    }\n",
       "\n",
       "    .dataframe thead th {\n",
       "        text-align: right;\n",
       "    }\n",
       "</style>\n",
       "<table border=\"1\" class=\"dataframe\">\n",
       "  <thead>\n",
       "    <tr style=\"text-align: right;\">\n",
       "      <th></th>\n",
       "      <th>ClusterLabels</th>\n",
       "      <th>Name</th>\n",
       "    </tr>\n",
       "    <tr>\n",
       "      <th>PostalCode</th>\n",
       "      <th></th>\n",
       "      <th></th>\n",
       "    </tr>\n",
       "  </thead>\n",
       "  <tbody>\n",
       "    <tr>\n",
       "      <th>M6G</th>\n",
       "      <td>2</td>\n",
       "      <td>4</td>\n",
       "    </tr>\n",
       "    <tr>\n",
       "      <th>M6H</th>\n",
       "      <td>1</td>\n",
       "      <td>2</td>\n",
       "    </tr>\n",
       "    <tr>\n",
       "      <th>M6K</th>\n",
       "      <td>0</td>\n",
       "      <td>1</td>\n",
       "    </tr>\n",
       "  </tbody>\n",
       "</table>\n",
       "</div>"
      ],
      "text/plain": [
       "            ClusterLabels  Name\n",
       "PostalCode                     \n",
       "M6G                     2     4\n",
       "M6H                     1     2\n",
       "M6K                     0     1"
      ]
     },
     "execution_count": 107,
     "metadata": {},
     "output_type": "execute_result"
    }
   ],
   "source": [
    "#Include lables\n",
    "schools_g.insert(0, 'ClusterLabels', kmeans.labels_)\n",
    "print(len(schools_g))\n",
    "schools_g.tail(10).head(3)"
   ]
  },
  {
   "cell_type": "code",
   "execution_count": 108,
   "metadata": {},
   "outputs": [
    {
     "data": {
      "text/html": [
       "<div>\n",
       "<style scoped>\n",
       "    .dataframe tbody tr th:only-of-type {\n",
       "        vertical-align: middle;\n",
       "    }\n",
       "\n",
       "    .dataframe tbody tr th {\n",
       "        vertical-align: top;\n",
       "    }\n",
       "\n",
       "    .dataframe thead th {\n",
       "        text-align: right;\n",
       "    }\n",
       "</style>\n",
       "<table border=\"1\" class=\"dataframe\">\n",
       "  <thead>\n",
       "    <tr style=\"text-align: right;\">\n",
       "      <th></th>\n",
       "      <th>PostalCode</th>\n",
       "      <th>District</th>\n",
       "      <th>Neighbourhood</th>\n",
       "      <th>ClusterLabels</th>\n",
       "      <th>Latitude</th>\n",
       "      <th>Longitude</th>\n",
       "    </tr>\n",
       "  </thead>\n",
       "  <tbody>\n",
       "    <tr>\n",
       "      <th>26</th>\n",
       "      <td>M9C</td>\n",
       "      <td>Etobicoke</td>\n",
       "      <td>Eringate, Bloordale Gardens, Old Burnhamthorpe...</td>\n",
       "      <td>-1</td>\n",
       "      <td>0</td>\n",
       "      <td>0</td>\n",
       "    </tr>\n",
       "    <tr>\n",
       "      <th>32</th>\n",
       "      <td>M6E</td>\n",
       "      <td>York</td>\n",
       "      <td>Caledonia-Fairbanks</td>\n",
       "      <td>-1</td>\n",
       "      <td>0</td>\n",
       "      <td>0</td>\n",
       "    </tr>\n",
       "    <tr>\n",
       "      <th>40</th>\n",
       "      <td>M5G</td>\n",
       "      <td>Downtown Toronto</td>\n",
       "      <td>Central Bay Street</td>\n",
       "      <td>-1</td>\n",
       "      <td>0</td>\n",
       "      <td>0</td>\n",
       "    </tr>\n",
       "  </tbody>\n",
       "</table>\n",
       "</div>"
      ],
      "text/plain": [
       "   PostalCode          District  \\\n",
       "26        M9C         Etobicoke   \n",
       "32        M6E              York   \n",
       "40        M5G  Downtown Toronto   \n",
       "\n",
       "                                        Neighbourhood  ClusterLabels  \\\n",
       "26  Eringate, Bloordale Gardens, Old Burnhamthorpe...             -1   \n",
       "32                                Caledonia-Fairbanks             -1   \n",
       "40                                 Central Bay Street             -1   \n",
       "\n",
       "    Latitude  Longitude  \n",
       "26         0          0  \n",
       "32         0          0  \n",
       "40         0          0  "
      ]
     },
     "execution_count": 108,
     "metadata": {},
     "output_type": "execute_result"
    }
   ],
   "source": [
    "#Prepare the original data frame to include Latitude, Logitude and cluster lables\n",
    "toronto_df['Latitude']=0\n",
    "toronto_df['Longitude']=0\n",
    "toronto_df['ClusterLabels']=-1\n",
    "toronto_df.rename(columns={\"Postal Code\":\"PostalCode\"}, inplace=True)\n",
    "toronto_df.head(3)"
   ]
  },
  {
   "cell_type": "code",
   "execution_count": 109,
   "metadata": {},
   "outputs": [
    {
     "name": "stdout",
     "output_type": "stream",
     "text": [
      "108\n"
     ]
    },
    {
     "data": {
      "text/html": [
       "<div>\n",
       "<style scoped>\n",
       "    .dataframe tbody tr th:only-of-type {\n",
       "        vertical-align: middle;\n",
       "    }\n",
       "\n",
       "    .dataframe tbody tr th {\n",
       "        vertical-align: top;\n",
       "    }\n",
       "\n",
       "    .dataframe thead th {\n",
       "        text-align: right;\n",
       "    }\n",
       "</style>\n",
       "<table border=\"1\" class=\"dataframe\">\n",
       "  <thead>\n",
       "    <tr style=\"text-align: right;\">\n",
       "      <th></th>\n",
       "      <th>Name</th>\n",
       "      <th>Latitude</th>\n",
       "      <th>Longitude</th>\n",
       "    </tr>\n",
       "    <tr>\n",
       "      <th>PostalCode</th>\n",
       "      <th></th>\n",
       "      <th></th>\n",
       "      <th></th>\n",
       "    </tr>\n",
       "  </thead>\n",
       "  <tbody>\n",
       "    <tr>\n",
       "      <th>M6K</th>\n",
       "      <td>SCHOOL Restaurant</td>\n",
       "      <td>43.637775</td>\n",
       "      <td>-79.424297</td>\n",
       "    </tr>\n",
       "    <tr>\n",
       "      <th>M5R</th>\n",
       "      <td>Nella Cucina</td>\n",
       "      <td>43.667122</td>\n",
       "      <td>-79.412022</td>\n",
       "    </tr>\n",
       "    <tr>\n",
       "      <th>M5G</th>\n",
       "      <td>ILSC</td>\n",
       "      <td>43.654743</td>\n",
       "      <td>-79.387793</td>\n",
       "    </tr>\n",
       "  </tbody>\n",
       "</table>\n",
       "</div>"
      ],
      "text/plain": [
       "                         Name   Latitude  Longitude\n",
       "PostalCode                                         \n",
       "M6K         SCHOOL Restaurant  43.637775 -79.424297\n",
       "M5R              Nella Cucina  43.667122 -79.412022\n",
       "M5G                      ILSC  43.654743 -79.387793"
      ]
     },
     "execution_count": 109,
     "metadata": {},
     "output_type": "execute_result"
    }
   ],
   "source": [
    "#Drop the duplicate postal codes\n",
    "schools.drop_duplicates(subset=['PostalCode'], inplace=True)\n",
    "schools.set_index('PostalCode', inplace=True)\n",
    "print(schools.size)\n",
    "schools.head(3)"
   ]
  },
  {
   "cell_type": "code",
   "execution_count": 110,
   "metadata": {},
   "outputs": [],
   "source": [
    "#Transfrer the data from data frame used to evaluate the lables to the data frame used to create the map\n",
    "for pcod in toronto_df.index:\n",
    "    c_pcod=toronto_df['PostalCode'][pcod]\n",
    "    if c_pcod in schools_g.index:\n",
    "        toronto_df.loc[pcod, 'ClusterLabels'] = schools_g.loc[c_pcod].ClusterLabels\n",
    "        if c_pcod in schools.index:\n",
    "            toronto_df.loc[pcod, 'Latitude'] = schools.loc[c_pcod].Latitude\n",
    "            toronto_df.loc[pcod, 'Longitude'] = schools.loc[c_pcod].Longitude\n",
    "         #else:\n",
    "        #    print('NA')"
   ]
  },
  {
   "cell_type": "code",
   "execution_count": 111,
   "metadata": {},
   "outputs": [
    {
     "name": "stdout",
     "output_type": "stream",
     "text": [
      "216\n"
     ]
    },
    {
     "data": {
      "text/html": [
       "<div>\n",
       "<style scoped>\n",
       "    .dataframe tbody tr th:only-of-type {\n",
       "        vertical-align: middle;\n",
       "    }\n",
       "\n",
       "    .dataframe tbody tr th {\n",
       "        vertical-align: top;\n",
       "    }\n",
       "\n",
       "    .dataframe thead th {\n",
       "        text-align: right;\n",
       "    }\n",
       "</style>\n",
       "<table border=\"1\" class=\"dataframe\">\n",
       "  <thead>\n",
       "    <tr style=\"text-align: right;\">\n",
       "      <th></th>\n",
       "      <th>PostalCode</th>\n",
       "      <th>District</th>\n",
       "      <th>Neighbourhood</th>\n",
       "      <th>ClusterLabels</th>\n",
       "      <th>Latitude</th>\n",
       "      <th>Longitude</th>\n",
       "    </tr>\n",
       "  </thead>\n",
       "  <tbody>\n",
       "    <tr>\n",
       "      <th>26</th>\n",
       "      <td>M9C</td>\n",
       "      <td>Etobicoke</td>\n",
       "      <td>Eringate, Bloordale Gardens, Old Burnhamthorpe...</td>\n",
       "      <td>0</td>\n",
       "      <td>43.637892</td>\n",
       "      <td>-79.580519</td>\n",
       "    </tr>\n",
       "    <tr>\n",
       "      <th>32</th>\n",
       "      <td>M6E</td>\n",
       "      <td>York</td>\n",
       "      <td>Caledonia-Fairbanks</td>\n",
       "      <td>0</td>\n",
       "      <td>43.679217</td>\n",
       "      <td>-79.441730</td>\n",
       "    </tr>\n",
       "    <tr>\n",
       "      <th>40</th>\n",
       "      <td>M5G</td>\n",
       "      <td>Downtown Toronto</td>\n",
       "      <td>Central Bay Street</td>\n",
       "      <td>1</td>\n",
       "      <td>43.654743</td>\n",
       "      <td>-79.387793</td>\n",
       "    </tr>\n",
       "  </tbody>\n",
       "</table>\n",
       "</div>"
      ],
      "text/plain": [
       "   PostalCode          District  \\\n",
       "26        M9C         Etobicoke   \n",
       "32        M6E              York   \n",
       "40        M5G  Downtown Toronto   \n",
       "\n",
       "                                        Neighbourhood  ClusterLabels  \\\n",
       "26  Eringate, Bloordale Gardens, Old Burnhamthorpe...              0   \n",
       "32                                Caledonia-Fairbanks              0   \n",
       "40                                 Central Bay Street              1   \n",
       "\n",
       "     Latitude  Longitude  \n",
       "26  43.637892 -79.580519  \n",
       "32  43.679217 -79.441730  \n",
       "40  43.654743 -79.387793  "
      ]
     },
     "execution_count": 111,
     "metadata": {},
     "output_type": "execute_result"
    }
   ],
   "source": [
    "#Drop rows where there were not cluster labesl\n",
    "#These are the postal codes where foursquare filed to find any schools\n",
    "toronto_df.drop(toronto_df[toronto_df.ClusterLabels==-1].index, inplace=True)\n",
    "print(toronto_df.size)\n",
    "toronto_df.tail(100).head(3)\n"
   ]
  },
  {
   "cell_type": "code",
   "execution_count": 116,
   "metadata": {},
   "outputs": [
    {
     "name": "stdout",
     "output_type": "stream",
     "text": [
      "One schools -blue \n",
      "Two schools - green \n",
      "Four schools - Red \n"
     ]
    },
    {
     "data": {
      "text/html": [
       "<div style=\"width:100%;\"><div style=\"position:relative;width:100%;height:0;padding-bottom:60%;\"><span style=\"color:#565656\">Make this Notebook Trusted to load map: File -> Trust Notebook</span><iframe src=\"about:blank\" style=\"position:absolute;width:100%;height:100%;left:0;top:0;border:none !important;\" data-html=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 onload=\"this.contentDocument.open();this.contentDocument.write(atob(this.getAttribute('data-html')));this.contentDocument.close();\" allowfullscreen webkitallowfullscreen mozallowfullscreen></iframe></div></div>"
      ],
      "text/plain": [
       "<folium.folium.Map at 0x7fe86bf793d0>"
      ]
     },
     "execution_count": 116,
     "metadata": {},
     "output_type": "execute_result"
    }
   ],
   "source": [
    "# create map\n",
    "cent_lati='43.637775'\n",
    "cent_long='-79.424297'\n",
    "map_clusters = folium.Map(location=[cent_lati, cent_long], zoom_start=10)\n",
    "\n",
    "# set color scheme for the clusters\n",
    "x = np.arange(kclusters)\n",
    "ys = [i + x + (i*x)**2 for i in range(kclusters)]\n",
    "colors_array = cm.brg(np.linspace(0, 1, len(ys)))\n",
    "rainbow = [colors.rgb2hex(i) for i in colors_array]\n",
    "\n",
    "#print(rainbow)\n",
    "# add markers to the map\n",
    "print(\"One schools -blue \")\n",
    "print(\"Two schools - green \")\n",
    "print(\"Four schools - Red \")\n",
    "markers_colors = []\n",
    "for lat, lon, poc, cluster in zip(toronto_df['Latitude'], \n",
    "                                  toronto_df['Longitude'], \n",
    "                                  toronto_df['PostalCode'],\n",
    "                                  toronto_df['ClusterLabels']):\n",
    "        label = folium.Popup('Postcode='+str(poc) + '|Cluster=' + str(cluster+1), parse_html=True)\n",
    "        folium.CircleMarker(\n",
    "        [lat, lon],\n",
    "        radius=5,\n",
    "        popup=label,\n",
    "        color=rainbow[cluster-1],\n",
    "        fill=True,\n",
    "        fill_color=rainbow[cluster-1],\n",
    "        fill_opacity=0.7).add_to(map_clusters)\n",
    "       \n",
    "map_clusters"
   ]
  },
  {
   "cell_type": "code",
   "execution_count": null,
   "metadata": {},
   "outputs": [],
   "source": []
  }
 ],
 "metadata": {
  "kernelspec": {
   "display_name": "Python 3",
   "language": "python",
   "name": "python3"
  },
  "language_info": {
   "codemirror_mode": {
    "name": "ipython",
    "version": 3
   },
   "file_extension": ".py",
   "mimetype": "text/x-python",
   "name": "python",
   "nbconvert_exporter": "python",
   "pygments_lexer": "ipython3",
   "version": "3.8.3"
  }
 },
 "nbformat": 4,
 "nbformat_minor": 4
}
